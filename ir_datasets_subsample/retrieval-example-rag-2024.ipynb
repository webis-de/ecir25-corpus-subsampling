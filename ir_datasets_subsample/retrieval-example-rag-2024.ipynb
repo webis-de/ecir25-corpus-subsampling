{
 "cells": [
  {
   "cell_type": "code",
   "execution_count": 1,
   "id": "29c58bdb",
   "metadata": {},
   "outputs": [],
   "source": [
    "from ir_datasets_subsample import register_subsamples\n",
    "import ir_datasets\n",
    "import pyterrier as pt\n",
    "\n",
    "register_subsamples()"
   ]
  },
  {
   "cell_type": "markdown",
   "id": "a7156249",
   "metadata": {},
   "source": [
    "# Access data with PyTerrier"
   ]
  },
  {
   "cell_type": "markdown",
   "id": "debf473f",
   "metadata": {},
   "source": [
    "### Step 1: Load the datasets"
   ]
  },
  {
   "cell_type": "code",
   "execution_count": 2,
   "id": "47b8a854",
   "metadata": {},
   "outputs": [],
   "source": [
    "pt_dataset = pt.datasets.get_dataset(\"irds:corpus-subsamples/trec-rag-2024\")"
   ]
  },
  {
   "cell_type": "markdown",
   "id": "888e5d5e",
   "metadata": {},
   "source": [
    "### Step 2: Index the documents"
   ]
  },
  {
   "cell_type": "code",
   "execution_count": 3,
   "id": "ed35e873",
   "metadata": {},
   "outputs": [
    {
     "name": "stderr",
     "output_type": "stream",
     "text": [
      "Java started (triggered by TerrierIndexer.__init__) and loaded: pyterrier.java, pyterrier.terrier.java [version=5.11 (build: craig.macdonald 2025-01-13 21:29), helper_version=0.0.8]\n",
      "corpus-subsamples/trec-rag-2024 documents: 116694it [00:38, 3026.82it/s]\n"
     ]
    }
   ],
   "source": [
    "indexer = pt.IterDictIndexer(\"/tmp/index-rag24\", overwrite=True, meta={\"docno\": 100, \"text\": 20480})\n",
    "indexer.index(pt_dataset.get_corpus_iter())\n",
    "\n",
    "index = pt.IndexFactory.of(\"/tmp/index-rag24\")"
   ]
  },
  {
   "cell_type": "markdown",
   "id": "1c38fedd",
   "metadata": {},
   "source": [
    "### Step 3: Configure Retrieval Approaches"
   ]
  },
  {
   "cell_type": "code",
   "execution_count": 4,
   "id": "c30d97cc",
   "metadata": {},
   "outputs": [],
   "source": [
    "bm25 = pt.terrier.Retriever(index, wmodel=\"BM25\")\n",
    "pl2 = pt.terrier.Retriever(index, wmodel=\"PL2\")"
   ]
  },
  {
   "cell_type": "markdown",
   "id": "8f812f93",
   "metadata": {},
   "source": [
    "### Step 4: Run Retrieval Experiments"
   ]
  },
  {
   "cell_type": "code",
   "execution_count": 5,
   "id": "fc715dc7",
   "metadata": {},
   "outputs": [
    {
     "data": {
      "text/html": [
       "<div>\n",
       "<style scoped>\n",
       "    .dataframe tbody tr th:only-of-type {\n",
       "        vertical-align: middle;\n",
       "    }\n",
       "\n",
       "    .dataframe tbody tr th {\n",
       "        vertical-align: top;\n",
       "    }\n",
       "\n",
       "    .dataframe thead th {\n",
       "        text-align: right;\n",
       "    }\n",
       "</style>\n",
       "<table border=\"1\" class=\"dataframe\">\n",
       "  <thead>\n",
       "    <tr style=\"text-align: right;\">\n",
       "      <th></th>\n",
       "      <th>name</th>\n",
       "      <th>ndcg_cut.10</th>\n",
       "      <th>recip_rank</th>\n",
       "    </tr>\n",
       "  </thead>\n",
       "  <tbody>\n",
       "    <tr>\n",
       "      <th>0</th>\n",
       "      <td>BM25</td>\n",
       "      <td>0.264266</td>\n",
       "      <td>0.550517</td>\n",
       "    </tr>\n",
       "    <tr>\n",
       "      <th>1</th>\n",
       "      <td>PL2</td>\n",
       "      <td>0.232176</td>\n",
       "      <td>0.501331</td>\n",
       "    </tr>\n",
       "  </tbody>\n",
       "</table>\n",
       "</div>"
      ],
      "text/plain": [
       "   name  ndcg_cut.10  recip_rank\n",
       "0  BM25     0.264266    0.550517\n",
       "1   PL2     0.232176    0.501331"
      ]
     },
     "execution_count": 5,
     "metadata": {},
     "output_type": "execute_result"
    }
   ],
   "source": [
    "pt.Experiment(\n",
    "        [bm25, pl2],\n",
    "        topics=pt_dataset.get_topics(),\n",
    "        qrels=pt_dataset.get_qrels(),\n",
    "        eval_metrics=[\"ndcg_cut.10\", \"recip_rank\"],\n",
    "        names=[\"BM25\", \"PL2\"]\n",
    "    )"
   ]
  },
  {
   "cell_type": "markdown",
   "id": "bd386253",
   "metadata": {},
   "source": [
    "### Step 5: Inspect queries and qrels in detail"
   ]
  },
  {
   "cell_type": "code",
   "execution_count": 6,
   "id": "b3924758",
   "metadata": {},
   "outputs": [
    {
     "data": {
      "text/html": [
       "<div>\n",
       "<style scoped>\n",
       "    .dataframe tbody tr th:only-of-type {\n",
       "        vertical-align: middle;\n",
       "    }\n",
       "\n",
       "    .dataframe tbody tr th {\n",
       "        vertical-align: top;\n",
       "    }\n",
       "\n",
       "    .dataframe thead th {\n",
       "        text-align: right;\n",
       "    }\n",
       "</style>\n",
       "<table border=\"1\" class=\"dataframe\">\n",
       "  <thead>\n",
       "    <tr style=\"text-align: right;\">\n",
       "      <th></th>\n",
       "      <th>qid</th>\n",
       "      <th>query</th>\n",
       "    </tr>\n",
       "  </thead>\n",
       "  <tbody>\n",
       "    <tr>\n",
       "      <th>0</th>\n",
       "      <td>2024-145979</td>\n",
       "      <td>what is vicarious trauma and how can it be cop...</td>\n",
       "    </tr>\n",
       "    <tr>\n",
       "      <th>1</th>\n",
       "      <td>2024-216592</td>\n",
       "      <td>why disability insurance is a smart investment</td>\n",
       "    </tr>\n",
       "    <tr>\n",
       "      <th>2</th>\n",
       "      <td>2024-32912</td>\n",
       "      <td>how bad did the vietnam war devastate the econ...</td>\n",
       "    </tr>\n",
       "  </tbody>\n",
       "</table>\n",
       "</div>"
      ],
      "text/plain": [
       "           qid                                              query\n",
       "0  2024-145979  what is vicarious trauma and how can it be cop...\n",
       "1  2024-216592     why disability insurance is a smart investment\n",
       "2   2024-32912  how bad did the vietnam war devastate the econ..."
      ]
     },
     "execution_count": 6,
     "metadata": {},
     "output_type": "execute_result"
    }
   ],
   "source": [
    "pt_dataset.get_topics().head(3)"
   ]
  },
  {
   "cell_type": "code",
   "execution_count": 7,
   "id": "b5154fcf",
   "metadata": {},
   "outputs": [
    {
     "data": {
      "text/html": [
       "<div>\n",
       "<style scoped>\n",
       "    .dataframe tbody tr th:only-of-type {\n",
       "        vertical-align: middle;\n",
       "    }\n",
       "\n",
       "    .dataframe tbody tr th {\n",
       "        vertical-align: top;\n",
       "    }\n",
       "\n",
       "    .dataframe thead th {\n",
       "        text-align: right;\n",
       "    }\n",
       "</style>\n",
       "<table border=\"1\" class=\"dataframe\">\n",
       "  <thead>\n",
       "    <tr style=\"text-align: right;\">\n",
       "      <th></th>\n",
       "      <th>qid</th>\n",
       "      <th>docno</th>\n",
       "      <th>label</th>\n",
       "      <th>iteration</th>\n",
       "    </tr>\n",
       "  </thead>\n",
       "  <tbody>\n",
       "    <tr>\n",
       "      <th>0</th>\n",
       "      <td>2024-105741</td>\n",
       "      <td>msmarco_v2.1_doc_00_125364462#6_229054655</td>\n",
       "      <td>0</td>\n",
       "      <td>0</td>\n",
       "    </tr>\n",
       "    <tr>\n",
       "      <th>1</th>\n",
       "      <td>2024-105741</td>\n",
       "      <td>msmarco_v2.1_doc_00_1534870566#4_2687181963</td>\n",
       "      <td>0</td>\n",
       "      <td>0</td>\n",
       "    </tr>\n",
       "    <tr>\n",
       "      <th>2</th>\n",
       "      <td>2024-105741</td>\n",
       "      <td>msmarco_v2.1_doc_00_1534870566#5_2687183111</td>\n",
       "      <td>1</td>\n",
       "      <td>0</td>\n",
       "    </tr>\n",
       "  </tbody>\n",
       "</table>\n",
       "</div>"
      ],
      "text/plain": [
       "           qid                                        docno  label iteration\n",
       "0  2024-105741    msmarco_v2.1_doc_00_125364462#6_229054655      0         0\n",
       "1  2024-105741  msmarco_v2.1_doc_00_1534870566#4_2687181963      0         0\n",
       "2  2024-105741  msmarco_v2.1_doc_00_1534870566#5_2687183111      1         0"
      ]
     },
     "execution_count": 7,
     "metadata": {},
     "output_type": "execute_result"
    }
   ],
   "source": [
    "pt_dataset.get_qrels().head(3)"
   ]
  },
  {
   "cell_type": "markdown",
   "id": "ef0a17fc",
   "metadata": {},
   "source": [
    "# Alternative: Access data with ir_datasets"
   ]
  },
  {
   "cell_type": "code",
   "execution_count": 8,
   "id": "859ba6ae",
   "metadata": {},
   "outputs": [],
   "source": [
    "dataset = ir_datasets.load(\"corpus-subsamples/trec-rag-2024\")\n"
   ]
  },
  {
   "cell_type": "code",
   "execution_count": 9,
   "id": "c391c64b",
   "metadata": {},
   "outputs": [
    {
     "name": "stdout",
     "output_type": "stream",
     "text": [
      "GenericQuery(query_id='2024-145979', text='what is vicarious trauma and how can it be coped with?')\n"
     ]
    }
   ],
   "source": [
    "for query in dataset.queries_iter():\n",
    "    print(query)\n",
    "    break"
   ]
  },
  {
   "cell_type": "code",
   "execution_count": 10,
   "id": "5526cbcc",
   "metadata": {},
   "outputs": [
    {
     "name": "stdout",
     "output_type": "stream",
     "text": [
      "GenericDoc(doc_id='msmarco_v2.1_doc_52_1400719578#0_2842698387', text='Taylor Swift\\'s \"Invisible String\" Lyrics Meaning - Song Meanings and Facts Taylor Swift’s “Invisible String” Lyrics Meaning\\nTaylor Swift’s “Invisible String” Lyrics Meaning\\n“Invisible String” is about Taylor Swift’s relationship with Joe Alwyn?\\nPast Relationship References\\nIn Conclusion…\\n“Invincible String” Details\\nWas “Invincible String” released as a single?\\n Taylor Swift\\'s \"Invisible String\" Lyrics Meaning - Song Meanings and Facts\\nTaylor Swift’s “Invisible String” Lyrics Meaning\\nby Amanda London ·  Published August 18, 2020 · Updated August 18, 2020\\nIn “Invisible String”, Taylor borrows the East Asian legend which describes the “ Red String of Fate ” as an invisible string which ties two people who are destined to meet together. Taylor explores the possibility of this legend being a reality in her new relationship. She uses different colors in telling the story of the state of her relationship. For instance, in the first verse, she mentions green which signifies growth or new beginnings, as well as her hope to find a new partner and begin a fresh relationship. In the third verse though, she mentions gold which implies the improvement that has taken place and how she has come to value their bond. “Invisible String” is about Taylor Swift’s relationship with Joe Alwyn? Considering the descriptions in the lyrics, it is likely that the singer is mainly speaking about her relationship with Joe Alwyn. Past Relationship References\\nTaylor references her past relationships and heartbreaks, including her relationship with Joe Jonas. It should be noted that Taylor possibly sent a baby gift to congratulate Joe on the birth of his first child with his wife. In Conclusion…\\nThroughout, Taylor maintains the message that her past failures and heartbreaks were necessary for her to appreciate her current relationship.')\n"
     ]
    }
   ],
   "source": [
    "for doc in dataset.docs_iter():\n",
    "    print(doc)\n",
    "    break"
   ]
  },
  {
   "cell_type": "code",
   "execution_count": 11,
   "id": "3c320934",
   "metadata": {},
   "outputs": [
    {
     "name": "stdout",
     "output_type": "stream",
     "text": [
      "TrecQrel(query_id='2024-105741', doc_id='msmarco_v2.1_doc_00_125364462#6_229054655', relevance=0, iteration='0')\n"
     ]
    }
   ],
   "source": [
    "for qrel in dataset.qrels_iter():\n",
    "    print(qrel)\n",
    "    break"
   ]
  }
 ],
 "metadata": {
  "kernelspec": {
   "display_name": "Python 3",
   "language": "python",
   "name": "python3"
  },
  "language_info": {
   "codemirror_mode": {
    "name": "ipython",
    "version": 3
   },
   "file_extension": ".py",
   "mimetype": "text/x-python",
   "name": "python",
   "nbconvert_exporter": "python",
   "pygments_lexer": "ipython3",
   "version": "3.10.12"
  }
 },
 "nbformat": 4,
 "nbformat_minor": 5
}
