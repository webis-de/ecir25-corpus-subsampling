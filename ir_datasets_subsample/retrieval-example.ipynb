{
 "cells": [
  {
   "cell_type": "code",
   "execution_count": 1,
   "id": "f1f1edb5",
   "metadata": {},
   "outputs": [],
   "source": [
    "from ir_datasets_subsample import register_subsamples\n",
    "import ir_datasets\n",
    "import pyterrier as pt\n",
    "from pathlib import Path\n",
    "\n",
    "register_subsamples()"
   ]
  },
  {
   "cell_type": "code",
   "execution_count": 2,
   "id": "3c6a3e2a",
   "metadata": {},
   "outputs": [],
   "source": [
    "def get_index(dataset_id):\n",
    "    index_dir = Path(\"/tmp/index/\" + (dataset_id.replace('/', '-')))\n",
    "    pt_dataset = pt.datasets.get_dataset(\"irds:\" + dataset_id)\n",
    "\n",
    "    if not index_dir.exists() or not (index_dir / \"data.properties\").exists():\n",
    "        indexer = pt.IterDictIndexer(str(index_dir), overwrite=True, meta={\"docno\": 100, \"text\": 20480})\n",
    "        indexer.index(pt_dataset.get_corpus_iter())\n",
    "\n",
    "    return pt.IndexFactory.of(str(index_dir))\n",
    "\n",
    "def run_pt_experiment(dataset_id):\n",
    "    pt_dataset = pt.datasets.get_dataset(\"irds:\" + dataset_id)\n",
    "    query_field = \"title\" if \"misinfo\" in dataset_id else \"query\"\n",
    "    topics = pt_dataset.get_topics(query_field)\n",
    "    index = get_index(dataset_id)\n",
    "\n",
    "    # PyTerrier needs to use pre-tokenized queries\n",
    "    tokeniser = pt.java.autoclass(\"org.terrier.indexing.tokenisation.Tokeniser\").getTokeniser()\n",
    "    topics[\"query\"] = topics[\"query\"].apply(lambda i: \" \".join(tokeniser.getTokens(i)))\n",
    "\n",
    "    bm25 = pt.terrier.Retriever(index, wmodel=\"BM25\")\n",
    "    pl2 = pt.terrier.Retriever(index, wmodel=\"PL2\")\n",
    "    tf = pt.terrier.Retriever(index, wmodel=\"Tf\")\n",
    "\n",
    "    return pt.Experiment(\n",
    "        [bm25, pl2, tf],\n",
    "        topics=topics,\n",
    "        qrels=pt_dataset.get_qrels(),\n",
    "        eval_metrics=[\"ndcg_cut.10\", \"recip_rank\"],\n",
    "        names=[\"BM25\", \"PL2\", \"Tf\"]\n",
    "    )"
   ]
  },
  {
   "cell_type": "code",
   "execution_count": 4,
   "id": "23be185d",
   "metadata": {},
   "outputs": [
    {
     "data": {
      "text/html": [
       "<div>\n",
       "<style scoped>\n",
       "    .dataframe tbody tr th:only-of-type {\n",
       "        vertical-align: middle;\n",
       "    }\n",
       "\n",
       "    .dataframe tbody tr th {\n",
       "        vertical-align: top;\n",
       "    }\n",
       "\n",
       "    .dataframe thead th {\n",
       "        text-align: right;\n",
       "    }\n",
       "</style>\n",
       "<table border=\"1\" class=\"dataframe\">\n",
       "  <thead>\n",
       "    <tr style=\"text-align: right;\">\n",
       "      <th></th>\n",
       "      <th>name</th>\n",
       "      <th>ndcg_cut.10</th>\n",
       "      <th>recip_rank</th>\n",
       "    </tr>\n",
       "  </thead>\n",
       "  <tbody>\n",
       "    <tr>\n",
       "      <th>0</th>\n",
       "      <td>BM25</td>\n",
       "      <td>0.088972</td>\n",
       "      <td>0.180594</td>\n",
       "    </tr>\n",
       "    <tr>\n",
       "      <th>1</th>\n",
       "      <td>PL2</td>\n",
       "      <td>0.065918</td>\n",
       "      <td>0.167344</td>\n",
       "    </tr>\n",
       "    <tr>\n",
       "      <th>2</th>\n",
       "      <td>Tf</td>\n",
       "      <td>0.000663</td>\n",
       "      <td>0.021575</td>\n",
       "    </tr>\n",
       "  </tbody>\n",
       "</table>\n",
       "</div>"
      ],
      "text/plain": [
       "   name  ndcg_cut.10  recip_rank\n",
       "0  BM25     0.088972    0.180594\n",
       "1   PL2     0.065918    0.167344\n",
       "2    Tf     0.000663    0.021575"
      ]
     },
     "execution_count": 4,
     "metadata": {},
     "output_type": "execute_result"
    }
   ],
   "source": [
    "run_pt_experiment(\"corpus-subsamples/clueweb09/en/trec-web-2009\")"
   ]
  },
  {
   "cell_type": "code",
   "execution_count": 5,
   "id": "4cb587bb",
   "metadata": {},
   "outputs": [
    {
     "data": {
      "text/html": [
       "<div>\n",
       "<style scoped>\n",
       "    .dataframe tbody tr th:only-of-type {\n",
       "        vertical-align: middle;\n",
       "    }\n",
       "\n",
       "    .dataframe tbody tr th {\n",
       "        vertical-align: top;\n",
       "    }\n",
       "\n",
       "    .dataframe thead th {\n",
       "        text-align: right;\n",
       "    }\n",
       "</style>\n",
       "<table border=\"1\" class=\"dataframe\">\n",
       "  <thead>\n",
       "    <tr style=\"text-align: right;\">\n",
       "      <th></th>\n",
       "      <th>name</th>\n",
       "      <th>ndcg_cut.10</th>\n",
       "      <th>recip_rank</th>\n",
       "    </tr>\n",
       "  </thead>\n",
       "  <tbody>\n",
       "    <tr>\n",
       "      <th>0</th>\n",
       "      <td>BM25</td>\n",
       "      <td>0.074353</td>\n",
       "      <td>0.215784</td>\n",
       "    </tr>\n",
       "    <tr>\n",
       "      <th>1</th>\n",
       "      <td>PL2</td>\n",
       "      <td>0.073132</td>\n",
       "      <td>0.175654</td>\n",
       "    </tr>\n",
       "    <tr>\n",
       "      <th>2</th>\n",
       "      <td>Tf</td>\n",
       "      <td>0.026095</td>\n",
       "      <td>0.061632</td>\n",
       "    </tr>\n",
       "  </tbody>\n",
       "</table>\n",
       "</div>"
      ],
      "text/plain": [
       "   name  ndcg_cut.10  recip_rank\n",
       "0  BM25     0.074353    0.215784\n",
       "1   PL2     0.073132    0.175654\n",
       "2    Tf     0.026095    0.061632"
      ]
     },
     "execution_count": 5,
     "metadata": {},
     "output_type": "execute_result"
    }
   ],
   "source": [
    "run_pt_experiment(\"corpus-subsamples/clueweb09/en/trec-web-2010\")"
   ]
  },
  {
   "cell_type": "code",
   "execution_count": 6,
   "id": "12bfc27c",
   "metadata": {},
   "outputs": [
    {
     "data": {
      "text/html": [
       "<div>\n",
       "<style scoped>\n",
       "    .dataframe tbody tr th:only-of-type {\n",
       "        vertical-align: middle;\n",
       "    }\n",
       "\n",
       "    .dataframe tbody tr th {\n",
       "        vertical-align: top;\n",
       "    }\n",
       "\n",
       "    .dataframe thead th {\n",
       "        text-align: right;\n",
       "    }\n",
       "</style>\n",
       "<table border=\"1\" class=\"dataframe\">\n",
       "  <thead>\n",
       "    <tr style=\"text-align: right;\">\n",
       "      <th></th>\n",
       "      <th>name</th>\n",
       "      <th>ndcg_cut.10</th>\n",
       "      <th>recip_rank</th>\n",
       "    </tr>\n",
       "  </thead>\n",
       "  <tbody>\n",
       "    <tr>\n",
       "      <th>0</th>\n",
       "      <td>BM25</td>\n",
       "      <td>0.222346</td>\n",
       "      <td>0.415908</td>\n",
       "    </tr>\n",
       "    <tr>\n",
       "      <th>1</th>\n",
       "      <td>PL2</td>\n",
       "      <td>0.110293</td>\n",
       "      <td>0.310176</td>\n",
       "    </tr>\n",
       "    <tr>\n",
       "      <th>2</th>\n",
       "      <td>Tf</td>\n",
       "      <td>0.015912</td>\n",
       "      <td>0.048795</td>\n",
       "    </tr>\n",
       "  </tbody>\n",
       "</table>\n",
       "</div>"
      ],
      "text/plain": [
       "   name  ndcg_cut.10  recip_rank\n",
       "0  BM25     0.222346    0.415908\n",
       "1   PL2     0.110293    0.310176\n",
       "2    Tf     0.015912    0.048795"
      ]
     },
     "execution_count": 6,
     "metadata": {},
     "output_type": "execute_result"
    }
   ],
   "source": [
    "run_pt_experiment(\"corpus-subsamples/clueweb09/en/trec-web-2011\")"
   ]
  },
  {
   "cell_type": "code",
   "execution_count": 7,
   "id": "05857586",
   "metadata": {},
   "outputs": [
    {
     "data": {
      "text/html": [
       "<div>\n",
       "<style scoped>\n",
       "    .dataframe tbody tr th:only-of-type {\n",
       "        vertical-align: middle;\n",
       "    }\n",
       "\n",
       "    .dataframe tbody tr th {\n",
       "        vertical-align: top;\n",
       "    }\n",
       "\n",
       "    .dataframe thead th {\n",
       "        text-align: right;\n",
       "    }\n",
       "</style>\n",
       "<table border=\"1\" class=\"dataframe\">\n",
       "  <thead>\n",
       "    <tr style=\"text-align: right;\">\n",
       "      <th></th>\n",
       "      <th>name</th>\n",
       "      <th>ndcg_cut.10</th>\n",
       "      <th>recip_rank</th>\n",
       "    </tr>\n",
       "  </thead>\n",
       "  <tbody>\n",
       "    <tr>\n",
       "      <th>0</th>\n",
       "      <td>BM25</td>\n",
       "      <td>0.053855</td>\n",
       "      <td>0.193225</td>\n",
       "    </tr>\n",
       "    <tr>\n",
       "      <th>1</th>\n",
       "      <td>PL2</td>\n",
       "      <td>0.044213</td>\n",
       "      <td>0.183628</td>\n",
       "    </tr>\n",
       "    <tr>\n",
       "      <th>2</th>\n",
       "      <td>Tf</td>\n",
       "      <td>0.027149</td>\n",
       "      <td>0.087910</td>\n",
       "    </tr>\n",
       "  </tbody>\n",
       "</table>\n",
       "</div>"
      ],
      "text/plain": [
       "   name  ndcg_cut.10  recip_rank\n",
       "0  BM25     0.053855    0.193225\n",
       "1   PL2     0.044213    0.183628\n",
       "2    Tf     0.027149    0.087910"
      ]
     },
     "execution_count": 7,
     "metadata": {},
     "output_type": "execute_result"
    }
   ],
   "source": [
    "run_pt_experiment(\"corpus-subsamples/clueweb09/en/trec-web-2012\")"
   ]
  },
  {
   "cell_type": "code",
   "execution_count": 8,
   "id": "b8f67a00",
   "metadata": {},
   "outputs": [
    {
     "data": {
      "text/html": [
       "<div>\n",
       "<style scoped>\n",
       "    .dataframe tbody tr th:only-of-type {\n",
       "        vertical-align: middle;\n",
       "    }\n",
       "\n",
       "    .dataframe tbody tr th {\n",
       "        vertical-align: top;\n",
       "    }\n",
       "\n",
       "    .dataframe thead th {\n",
       "        text-align: right;\n",
       "    }\n",
       "</style>\n",
       "<table border=\"1\" class=\"dataframe\">\n",
       "  <thead>\n",
       "    <tr style=\"text-align: right;\">\n",
       "      <th></th>\n",
       "      <th>name</th>\n",
       "      <th>ndcg_cut.10</th>\n",
       "      <th>recip_rank</th>\n",
       "    </tr>\n",
       "  </thead>\n",
       "  <tbody>\n",
       "    <tr>\n",
       "      <th>0</th>\n",
       "      <td>BM25</td>\n",
       "      <td>0.232599</td>\n",
       "      <td>0.454886</td>\n",
       "    </tr>\n",
       "    <tr>\n",
       "      <th>1</th>\n",
       "      <td>PL2</td>\n",
       "      <td>0.205969</td>\n",
       "      <td>0.445310</td>\n",
       "    </tr>\n",
       "    <tr>\n",
       "      <th>2</th>\n",
       "      <td>Tf</td>\n",
       "      <td>0.021597</td>\n",
       "      <td>0.067767</td>\n",
       "    </tr>\n",
       "  </tbody>\n",
       "</table>\n",
       "</div>"
      ],
      "text/plain": [
       "   name  ndcg_cut.10  recip_rank\n",
       "0  BM25     0.232599    0.454886\n",
       "1   PL2     0.205969    0.445310\n",
       "2    Tf     0.021597    0.067767"
      ]
     },
     "execution_count": 8,
     "metadata": {},
     "output_type": "execute_result"
    }
   ],
   "source": [
    "run_pt_experiment(\"corpus-subsamples/clueweb12/trec-web-2013\")"
   ]
  },
  {
   "cell_type": "code",
   "execution_count": 9,
   "id": "5ba34584",
   "metadata": {},
   "outputs": [
    {
     "data": {
      "text/html": [
       "<div>\n",
       "<style scoped>\n",
       "    .dataframe tbody tr th:only-of-type {\n",
       "        vertical-align: middle;\n",
       "    }\n",
       "\n",
       "    .dataframe tbody tr th {\n",
       "        vertical-align: top;\n",
       "    }\n",
       "\n",
       "    .dataframe thead th {\n",
       "        text-align: right;\n",
       "    }\n",
       "</style>\n",
       "<table border=\"1\" class=\"dataframe\">\n",
       "  <thead>\n",
       "    <tr style=\"text-align: right;\">\n",
       "      <th></th>\n",
       "      <th>name</th>\n",
       "      <th>ndcg_cut.10</th>\n",
       "      <th>recip_rank</th>\n",
       "    </tr>\n",
       "  </thead>\n",
       "  <tbody>\n",
       "    <tr>\n",
       "      <th>0</th>\n",
       "      <td>BM25</td>\n",
       "      <td>0.305758</td>\n",
       "      <td>0.537395</td>\n",
       "    </tr>\n",
       "    <tr>\n",
       "      <th>1</th>\n",
       "      <td>PL2</td>\n",
       "      <td>0.266955</td>\n",
       "      <td>0.534130</td>\n",
       "    </tr>\n",
       "    <tr>\n",
       "      <th>2</th>\n",
       "      <td>Tf</td>\n",
       "      <td>0.064728</td>\n",
       "      <td>0.163052</td>\n",
       "    </tr>\n",
       "  </tbody>\n",
       "</table>\n",
       "</div>"
      ],
      "text/plain": [
       "   name  ndcg_cut.10  recip_rank\n",
       "0  BM25     0.305758    0.537395\n",
       "1   PL2     0.266955    0.534130\n",
       "2    Tf     0.064728    0.163052"
      ]
     },
     "execution_count": 9,
     "metadata": {},
     "output_type": "execute_result"
    }
   ],
   "source": [
    "run_pt_experiment(\"corpus-subsamples/clueweb12/trec-web-2014\")"
   ]
  },
  {
   "cell_type": "code",
   "execution_count": 10,
   "id": "568cd3c5",
   "metadata": {},
   "outputs": [
    {
     "data": {
      "text/html": [
       "<div>\n",
       "<style scoped>\n",
       "    .dataframe tbody tr th:only-of-type {\n",
       "        vertical-align: middle;\n",
       "    }\n",
       "\n",
       "    .dataframe tbody tr th {\n",
       "        vertical-align: top;\n",
       "    }\n",
       "\n",
       "    .dataframe thead th {\n",
       "        text-align: right;\n",
       "    }\n",
       "</style>\n",
       "<table border=\"1\" class=\"dataframe\">\n",
       "  <thead>\n",
       "    <tr style=\"text-align: right;\">\n",
       "      <th></th>\n",
       "      <th>name</th>\n",
       "      <th>ndcg_cut.10</th>\n",
       "      <th>recip_rank</th>\n",
       "    </tr>\n",
       "  </thead>\n",
       "  <tbody>\n",
       "    <tr>\n",
       "      <th>0</th>\n",
       "      <td>BM25</td>\n",
       "      <td>0.482746</td>\n",
       "      <td>0.768167</td>\n",
       "    </tr>\n",
       "    <tr>\n",
       "      <th>1</th>\n",
       "      <td>PL2</td>\n",
       "      <td>0.343369</td>\n",
       "      <td>0.603578</td>\n",
       "    </tr>\n",
       "    <tr>\n",
       "      <th>2</th>\n",
       "      <td>Tf</td>\n",
       "      <td>0.134279</td>\n",
       "      <td>0.318837</td>\n",
       "    </tr>\n",
       "  </tbody>\n",
       "</table>\n",
       "</div>"
      ],
      "text/plain": [
       "   name  ndcg_cut.10  recip_rank\n",
       "0  BM25     0.482746    0.768167\n",
       "1   PL2     0.343369    0.603578\n",
       "2    Tf     0.134279    0.318837"
      ]
     },
     "execution_count": 10,
     "metadata": {},
     "output_type": "execute_result"
    }
   ],
   "source": [
    "run_pt_experiment(\"corpus-subsamples/clueweb12/b13/trec-misinfo-2019\")"
   ]
  }
 ],
 "metadata": {
  "kernelspec": {
   "display_name": "Python 3",
   "language": "python",
   "name": "python3"
  },
  "language_info": {
   "codemirror_mode": {
    "name": "ipython",
    "version": 3
   },
   "file_extension": ".py",
   "mimetype": "text/x-python",
   "name": "python",
   "nbconvert_exporter": "python",
   "pygments_lexer": "ipython3",
   "version": "3.10.12"
  }
 },
 "nbformat": 4,
 "nbformat_minor": 5
}
